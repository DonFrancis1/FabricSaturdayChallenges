{
 "cells": [
  {
   "cell_type": "code",
   "execution_count": 5,
   "id": "03fd8a31-aa78-467b-b567-2e8438df1331",
   "metadata": {
    "jupyter": {
     "outputs_hidden": true
    },
    "microsoft": {
     "language": "python",
     "language_group": "synapse_pyspark"
    }
   },
   "outputs": [
    {
     "data": {
      "application/vnd.livy.statement-meta+json": {
       "execution_finish_time": "2025-08-22T20:20:32.3635032Z",
       "execution_start_time": "2025-08-22T20:20:27.5616587Z",
       "livy_statement_state": "available",
       "normalized_state": "finished",
       "parent_msg_id": "d92eb5fd-9698-4958-a29f-f7831d6956cc",
       "queued_time": "2025-08-22T20:20:27.5605069Z",
       "session_id": "06ef5f0b-9d06-4adf-8d0c-7d832018ce6a",
       "session_start_time": null,
       "spark_pool": null,
       "state": "finished",
       "statement_id": 7,
       "statement_ids": [
        7
       ]
      },
      "text/plain": [
       "StatementMeta(, 06ef5f0b-9d06-4adf-8d0c-7d832018ce6a, 7, Finished, Available, Finished)"
      ]
     },
     "metadata": {},
     "output_type": "display_data"
    },
    {
     "name": "stdout",
     "output_type": "stream",
     "text": [
      "Requirement already satisfied: faker in /home/trusted-service-user/cluster-env/trident_env/lib/python3.11/site-packages (37.5.3)\n",
      "Requirement already satisfied: tzdata in /home/trusted-service-user/cluster-env/trident_env/lib/python3.11/site-packages (from faker) (2023.3)\n",
      "Note: you may need to restart the kernel to use updated packages.\n"
     ]
    }
   ],
   "source": [
    "pip install faker"
   ]
  },
  {
   "cell_type": "code",
   "execution_count": null,
   "id": "5eba8bb9-54d5-4567-8fff-19f2c3f9bc4b",
   "metadata": {
    "microsoft": {
     "language": "python",
     "language_group": "synapse_pyspark"
    }
   },
   "outputs": [
    {
     "data": {
      "application/vnd.livy.statement-meta+json": {
       "execution_finish_time": "2025-08-22T20:20:32.6446001Z",
       "execution_start_time": "2025-08-22T20:20:32.3656929Z",
       "livy_statement_state": "available",
       "normalized_state": "finished",
       "parent_msg_id": "e259ac9d-d9ce-4951-ae5f-c8f3e7ce9d0b",
       "queued_time": "2025-08-22T20:20:27.6286423Z",
       "session_id": "06ef5f0b-9d06-4adf-8d0c-7d832018ce6a",
       "session_start_time": null,
       "spark_pool": null,
       "state": "finished",
       "statement_id": 8,
       "statement_ids": [
        8
       ]
      },
      "text/plain": [
       "StatementMeta(, 06ef5f0b-9d06-4adf-8d0c-7d832018ce6a, 8, Finished, Available, Finished)"
      ]
     },
     "metadata": {},
     "output_type": "display_data"
    },
    {
     "name": "stdout",
     "output_type": "stream",
     "text": [
      "\n",
      "Total Records: 50\n"
     ]
    }
   ],
   "source": [
    "from faker import Faker\n",
    "import pandas as pd\n",
    "import random\n",
    "from datetime import datetime, timedelta\n",
    "\n",
    "# Initialize Faker\n",
    "fake = Faker([\"yo_NG\"])\n",
    "Faker.seed(42)\n",
    "random.seed(42)\n",
    "\n",
    "# Configurations\n",
    "num_employees = 10\n",
    "start_date = datetime(2023, 1, 1)\n",
    "num_loads = 5\n",
    "months_interval = 3\n",
    "\n",
    "# Generate 5 load dates (every 3 months apart)\n",
    "load_dates = [start_date + timedelta(days=30*months_interval*i) for i in range(num_loads)]\n",
    "\n",
    "# Sample job titles and departments\n",
    "job_titles = ['Data Analyst', 'Data Engineer', 'BI Developer', 'ML Engineer', 'Product Manager']\n",
    "departments = ['IT', 'Finance', 'HR', 'Marketing']\n",
    "\n",
    "# Step 1: Create initial employee master list\n",
    "employee_master = []\n",
    "for i in range(num_employees):\n",
    "    name = fake.name()\n",
    "    gender = random.choice(['Male', 'Female'])\n",
    "    job = random.choice(job_titles)\n",
    "    dept = random.choice(departments)\n",
    "    employee_master.append({\n",
    "        'EmpID': i + 1,\n",
    "        'Name': name,\n",
    "        'Gender': gender,\n",
    "        'JobTitle': job,\n",
    "        'Department': dept\n",
    "    })\n",
    "\n",
    "# Step 2: Create data snapshots for each load date\n",
    "all_snapshots = []\n",
    "\n",
    "for idx, load_date in enumerate(load_dates):\n",
    "    snapshot = []\n",
    "    for emp in employee_master:\n",
    "        emp_copy = emp.copy()\n",
    "        \n",
    "        # Simulate change for 20% of employees in each load (after first)\n",
    "        if idx > 0 and random.random() < 0.2:\n",
    "            emp_copy['JobTitle'] = random.choice(job_titles)\n",
    "            emp_copy['Department'] = random.choice(departments)\n",
    "        emp_copy['LoadDate'] = load_date\n",
    "        snapshot.append(emp_copy)\n",
    "    \n",
    "    all_snapshots.extend(snapshot)\n",
    "\n",
    "# Step 3: Create DataFrame\n",
    "df_no_null = pd.DataFrame(all_snapshots)\n",
    "\n",
    "# Optional: Sort\n",
    "df_no_null = df_no_null.sort_values(['EmpID', 'LoadDate'])\n",
    "\n",
    "print(f\"\\nTotal Records: {len(df_no_null)}\")"
   ]
  },
  {
   "cell_type": "code",
   "execution_count": 7,
   "id": "6484bc5b-cd8d-4342-a251-1f2e0aa2bea5",
   "metadata": {
    "microsoft": {
     "language": "python",
     "language_group": "synapse_pyspark"
    }
   },
   "outputs": [
    {
     "data": {
      "application/vnd.livy.statement-meta+json": {
       "execution_finish_time": "2025-08-22T20:20:32.9192087Z",
       "execution_start_time": "2025-08-22T20:20:32.6466514Z",
       "livy_statement_state": "available",
       "normalized_state": "finished",
       "parent_msg_id": "2ab97352-27c0-4067-885a-ec457a862bbd",
       "queued_time": "2025-08-22T20:20:27.7187375Z",
       "session_id": "06ef5f0b-9d06-4adf-8d0c-7d832018ce6a",
       "session_start_time": null,
       "spark_pool": null,
       "state": "finished",
       "statement_id": 9,
       "statement_ids": [
        9
       ]
      },
      "text/plain": [
       "StatementMeta(, 06ef5f0b-9d06-4adf-8d0c-7d832018ce6a, 9, Finished, Available, Finished)"
      ]
     },
     "metadata": {},
     "output_type": "display_data"
    }
   ],
   "source": [
    "# Convert pandas DataFrame to Spark DataFrame\n",
    "df_no_null = spark.createDataFrame(df_no_null)"
   ]
  },
  {
   "cell_type": "code",
   "execution_count": 8,
   "id": "a907c668-f613-4337-9660-06721c8bb46a",
   "metadata": {
    "collapsed": false,
    "microsoft": {
     "language": "python",
     "language_group": "synapse_pyspark"
    }
   },
   "outputs": [
    {
     "data": {
      "application/vnd.livy.statement-meta+json": {
       "execution_finish_time": "2025-08-22T20:20:33.7406086Z",
       "execution_start_time": "2025-08-22T20:20:32.9213404Z",
       "livy_statement_state": "available",
       "normalized_state": "finished",
       "parent_msg_id": "88390889-23b0-4f35-8be9-75dfe33b476b",
       "queued_time": "2025-08-22T20:20:27.8485204Z",
       "session_id": "06ef5f0b-9d06-4adf-8d0c-7d832018ce6a",
       "session_start_time": null,
       "spark_pool": null,
       "state": "finished",
       "statement_id": 10,
       "statement_ids": [
        10
       ]
      },
      "text/plain": [
       "StatementMeta(, 06ef5f0b-9d06-4adf-8d0c-7d832018ce6a, 10, Finished, Available, Finished)"
      ]
     },
     "metadata": {},
     "output_type": "display_data"
    },
    {
     "data": {
      "application/vnd.synapse.widget-view+json": {
       "widget_id": "97065b8c-e404-455e-912d-82848028189d",
       "widget_type": "Synapse.DataFrame"
      },
      "text/plain": [
       "SynapseWidget(Synapse.DataFrame, 97065b8c-e404-455e-912d-82848028189d)"
      ]
     },
     "metadata": {},
     "output_type": "display_data"
    }
   ],
   "source": [
    "display(df_no_null)"
   ]
  }
 ],
 "metadata": {
  "dependencies": {
   "lakehouse": {
    "default_lakehouse": "a4c6fccb-f6b9-41e5-85ac-c68a6ab127b1",
    "default_lakehouse_name": "LH_SCD2",
    "default_lakehouse_workspace_id": "feae191e-0fdb-42d0-8fa2-ad29db75cdbf",
    "known_lakehouses": [
     {
      "id": "a4c6fccb-f6b9-41e5-85ac-c68a6ab127b1"
     }
    ]
   }
  },
  "kernel_info": {
   "name": "synapse_pyspark"
  },
  "kernelspec": {
   "display_name": "synapse_pyspark",
   "name": "synapse_pyspark"
  },
  "language_info": {
   "name": "python"
  },
  "microsoft": {
   "language": "python",
   "language_group": "synapse_pyspark",
   "ms_spell_check": {
    "ms_spell_check_language": "en"
   }
  },
  "nteract": {
   "version": "nteract-front-end@1.0.0"
  },
  "spark_compute": {
   "compute_id": "/trident/default",
   "session_options": {
    "conf": {
     "spark.synapse.nbs.session.timeout": "1200000"
    }
   }
  },
  "synapse_widget": {
   "state": {
    "97065b8c-e404-455e-912d-82848028189d": {
     "persist_state": {
      "view": {
       "chartOptions": {
        "aggregationType": "sum",
        "binsNumber": 10,
        "categoryFieldKeys": [],
        "chartType": "bar",
        "isStacked": false,
        "seriesFieldKeys": [],
        "wordFrequency": "-1"
       },
       "tableOptions": {},
       "type": "details",
       "viewOptionsGroup": [
        {
         "tabItems": [
          {
           "key": "0",
           "name": "Table",
           "options": {},
           "type": "table"
          }
         ]
        }
       ]
      }
     },
     "sync_state": {
      "isSummary": false,
      "language": "scala",
      "table": {
       "rows": [
        {
         "0": "1",
         "1": "Allison Hill",
         "2": "Male",
         "3": "Data Analyst",
         "4": "HR",
         "5": "2023-01-01 00:00:00",
         "index": 0,
         "key": 0
        },
        {
         "0": "1",
         "1": "Allison Hill",
         "2": "Male",
         "3": "ML Engineer",
         "4": "IT",
         "5": "2023-04-01 00:00:00",
         "index": 1,
         "key": 1
        },
        {
         "0": "1",
         "1": "Allison Hill",
         "2": "Male",
         "3": "Data Analyst",
         "4": "HR",
         "5": "2023-06-30 00:00:00",
         "index": 2,
         "key": 2
        },
        {
         "0": "1",
         "1": "Allison Hill",
         "2": "Male",
         "3": "BI Developer",
         "4": "Finance",
         "5": "2023-09-28 00:00:00",
         "index": 3,
         "key": 3
        },
        {
         "0": "1",
         "1": "Allison Hill",
         "2": "Male",
         "3": "Data Analyst",
         "4": "HR",
         "5": "2023-12-27 00:00:00",
         "index": 4,
         "key": 4
        },
        {
         "0": "2",
         "1": "Noah Rhodes",
         "2": "Male",
         "3": "Data Engineer",
         "4": "Finance",
         "5": "2023-01-01 00:00:00",
         "index": 5,
         "key": 5
        },
        {
         "0": "2",
         "1": "Noah Rhodes",
         "2": "Male",
         "3": "Data Engineer",
         "4": "Finance",
         "5": "2023-04-01 00:00:00",
         "index": 6,
         "key": 6
        },
        {
         "0": "2",
         "1": "Noah Rhodes",
         "2": "Male",
         "3": "Data Engineer",
         "4": "Finance",
         "5": "2023-06-30 00:00:00",
         "index": 7,
         "key": 7
        },
        {
         "0": "2",
         "1": "Noah Rhodes",
         "2": "Male",
         "3": "Data Engineer",
         "4": "Finance",
         "5": "2023-09-28 00:00:00",
         "index": 8,
         "key": 8
        },
        {
         "0": "2",
         "1": "Noah Rhodes",
         "2": "Male",
         "3": "Data Engineer",
         "4": "Finance",
         "5": "2023-12-27 00:00:00",
         "index": 9,
         "key": 9
        },
        {
         "0": "3",
         "1": "Angie Henderson",
         "2": "Male",
         "3": "Product Manager",
         "4": "IT",
         "5": "2023-01-01 00:00:00",
         "index": 10,
         "key": 10
        },
        {
         "0": "3",
         "1": "Angie Henderson",
         "2": "Male",
         "3": "Product Manager",
         "4": "IT",
         "5": "2023-04-01 00:00:00",
         "index": 11,
         "key": 11
        },
        {
         "0": "3",
         "1": "Angie Henderson",
         "2": "Male",
         "3": "Product Manager",
         "4": "IT",
         "5": "2023-06-30 00:00:00",
         "index": 12,
         "key": 12
        },
        {
         "0": "3",
         "1": "Angie Henderson",
         "2": "Male",
         "3": "Product Manager",
         "4": "IT",
         "5": "2023-09-28 00:00:00",
         "index": 13,
         "key": 13
        },
        {
         "0": "3",
         "1": "Angie Henderson",
         "2": "Male",
         "3": "Product Manager",
         "4": "IT",
         "5": "2023-12-27 00:00:00",
         "index": 14,
         "key": 14
        },
        {
         "0": "4",
         "1": "Daniel Wagner",
         "2": "Female",
         "3": "Data Analyst",
         "4": "IT",
         "5": "2023-01-01 00:00:00",
         "index": 15,
         "key": 15
        },
        {
         "0": "4",
         "1": "Daniel Wagner",
         "2": "Female",
         "3": "Data Analyst",
         "4": "IT",
         "5": "2023-04-01 00:00:00",
         "index": 16,
         "key": 16
        },
        {
         "0": "4",
         "1": "Daniel Wagner",
         "2": "Female",
         "3": "Data Engineer",
         "4": "HR",
         "5": "2023-06-30 00:00:00",
         "index": 17,
         "key": 17
        },
        {
         "0": "4",
         "1": "Daniel Wagner",
         "2": "Female",
         "3": "Data Analyst",
         "4": "IT",
         "5": "2023-09-28 00:00:00",
         "index": 18,
         "key": 18
        },
        {
         "0": "4",
         "1": "Daniel Wagner",
         "2": "Female",
         "3": "BI Developer",
         "4": "Marketing",
         "5": "2023-12-27 00:00:00",
         "index": 19,
         "key": 19
        },
        {
         "0": "5",
         "1": "Cristian Santos",
         "2": "Male",
         "3": "Data Engineer",
         "4": "Finance",
         "5": "2023-01-01 00:00:00",
         "index": 20,
         "key": 20
        },
        {
         "0": "5",
         "1": "Cristian Santos",
         "2": "Male",
         "3": "ML Engineer",
         "4": "IT",
         "5": "2023-04-01 00:00:00",
         "index": 21,
         "key": 21
        },
        {
         "0": "5",
         "1": "Cristian Santos",
         "2": "Male",
         "3": "Data Engineer",
         "4": "Finance",
         "5": "2023-06-30 00:00:00",
         "index": 22,
         "key": 22
        },
        {
         "0": "5",
         "1": "Cristian Santos",
         "2": "Male",
         "3": "Data Engineer",
         "4": "Finance",
         "5": "2023-09-28 00:00:00",
         "index": 23,
         "key": 23
        },
        {
         "0": "5",
         "1": "Cristian Santos",
         "2": "Male",
         "3": "Data Engineer",
         "4": "Finance",
         "5": "2023-12-27 00:00:00",
         "index": 24,
         "key": 24
        },
        {
         "0": "6",
         "1": "Connie Lawrence",
         "2": "Male",
         "3": "Product Manager",
         "4": "Finance",
         "5": "2023-01-01 00:00:00",
         "index": 25,
         "key": 25
        },
        {
         "0": "6",
         "1": "Connie Lawrence",
         "2": "Male",
         "3": "Product Manager",
         "4": "Finance",
         "5": "2023-04-01 00:00:00",
         "index": 26,
         "key": 26
        },
        {
         "0": "6",
         "1": "Connie Lawrence",
         "2": "Male",
         "3": "Product Manager",
         "4": "Finance",
         "5": "2023-06-30 00:00:00",
         "index": 27,
         "key": 27
        },
        {
         "0": "6",
         "1": "Connie Lawrence",
         "2": "Male",
         "3": "ML Engineer",
         "4": "HR",
         "5": "2023-09-28 00:00:00",
         "index": 28,
         "key": 28
        },
        {
         "0": "6",
         "1": "Connie Lawrence",
         "2": "Male",
         "3": "Product Manager",
         "4": "Finance",
         "5": "2023-12-27 00:00:00",
         "index": 29,
         "key": 29
        },
        {
         "0": "7",
         "1": "Abigail Shaffer",
         "2": "Female",
         "3": "Data Engineer",
         "4": "Marketing",
         "5": "2023-01-01 00:00:00",
         "index": 30,
         "key": 30
        },
        {
         "0": "7",
         "1": "Abigail Shaffer",
         "2": "Female",
         "3": "Data Engineer",
         "4": "Marketing",
         "5": "2023-04-01 00:00:00",
         "index": 31,
         "key": 31
        },
        {
         "0": "7",
         "1": "Abigail Shaffer",
         "2": "Female",
         "3": "Data Engineer",
         "4": "Marketing",
         "5": "2023-06-30 00:00:00",
         "index": 32,
         "key": 32
        },
        {
         "0": "7",
         "1": "Abigail Shaffer",
         "2": "Female",
         "3": "Data Engineer",
         "4": "Marketing",
         "5": "2023-09-28 00:00:00",
         "index": 33,
         "key": 33
        },
        {
         "0": "7",
         "1": "Abigail Shaffer",
         "2": "Female",
         "3": "Data Engineer",
         "4": "Marketing",
         "5": "2023-12-27 00:00:00",
         "index": 34,
         "key": 34
        },
        {
         "0": "8",
         "1": "Gina Moore",
         "2": "Female",
         "3": "Data Analyst",
         "4": "Finance",
         "5": "2023-01-01 00:00:00",
         "index": 35,
         "key": 35
        },
        {
         "0": "8",
         "1": "Gina Moore",
         "2": "Female",
         "3": "Data Analyst",
         "4": "Finance",
         "5": "2023-04-01 00:00:00",
         "index": 36,
         "key": 36
        },
        {
         "0": "8",
         "1": "Gina Moore",
         "2": "Female",
         "3": "Data Analyst",
         "4": "Finance",
         "5": "2023-06-30 00:00:00",
         "index": 37,
         "key": 37
        },
        {
         "0": "8",
         "1": "Gina Moore",
         "2": "Female",
         "3": "Data Analyst",
         "4": "Finance",
         "5": "2023-09-28 00:00:00",
         "index": 38,
         "key": 38
        },
        {
         "0": "8",
         "1": "Gina Moore",
         "2": "Female",
         "3": "Data Analyst",
         "4": "Finance",
         "5": "2023-12-27 00:00:00",
         "index": 39,
         "key": 39
        },
        {
         "0": "9",
         "1": "Gabrielle Davis",
         "2": "Female",
         "3": "BI Developer",
         "4": "HR",
         "5": "2023-01-01 00:00:00",
         "index": 40,
         "key": 40
        },
        {
         "0": "9",
         "1": "Gabrielle Davis",
         "2": "Female",
         "3": "BI Developer",
         "4": "HR",
         "5": "2023-04-01 00:00:00",
         "index": 41,
         "key": 41
        },
        {
         "0": "9",
         "1": "Gabrielle Davis",
         "2": "Female",
         "3": "BI Developer",
         "4": "HR",
         "5": "2023-06-30 00:00:00",
         "index": 42,
         "key": 42
        },
        {
         "0": "9",
         "1": "Gabrielle Davis",
         "2": "Female",
         "3": "BI Developer",
         "4": "HR",
         "5": "2023-09-28 00:00:00",
         "index": 43,
         "key": 43
        },
        {
         "0": "9",
         "1": "Gabrielle Davis",
         "2": "Female",
         "3": "BI Developer",
         "4": "HR",
         "5": "2023-12-27 00:00:00",
         "index": 44,
         "key": 44
        },
        {
         "0": "10",
         "1": "Ryan Munoz",
         "2": "Male",
         "3": "Data Engineer",
         "4": "HR",
         "5": "2023-01-01 00:00:00",
         "index": 45,
         "key": 45
        },
        {
         "0": "10",
         "1": "Ryan Munoz",
         "2": "Male",
         "3": "Data Engineer",
         "4": "HR",
         "5": "2023-04-01 00:00:00",
         "index": 46,
         "key": 46
        },
        {
         "0": "10",
         "1": "Ryan Munoz",
         "2": "Male",
         "3": "Data Engineer",
         "4": "HR",
         "5": "2023-06-30 00:00:00",
         "index": 47,
         "key": 47
        },
        {
         "0": "10",
         "1": "Ryan Munoz",
         "2": "Male",
         "3": "Data Engineer",
         "4": "HR",
         "5": "2023-09-28 00:00:00",
         "index": 48,
         "key": 48
        },
        {
         "0": "10",
         "1": "Ryan Munoz",
         "2": "Male",
         "3": "Data Engineer",
         "4": "HR",
         "5": "2023-12-27 00:00:00",
         "index": 49,
         "key": 49
        }
       ],
       "schema": [
        {
         "key": "0",
         "name": "EmpID",
         "type": "bigint"
        },
        {
         "key": "1",
         "name": "Name",
         "type": "string"
        },
        {
         "key": "2",
         "name": "Gender",
         "type": "string"
        },
        {
         "key": "3",
         "name": "JobTitle",
         "type": "string"
        },
        {
         "key": "4",
         "name": "Department",
         "type": "string"
        },
        {
         "key": "5",
         "name": "LoadDate",
         "type": "timestamp"
        }
       ],
       "truncated": false
      },
      "wranglerEntryContext": {
       "candidateVariableNames": [
        "df_no_null"
       ],
       "dataframeType": "pyspark"
      }
     },
     "type": "Synapse.DataFrame"
    }
   },
   "version": "0.1"
  }
 },
 "nbformat": 4,
 "nbformat_minor": 5
}
